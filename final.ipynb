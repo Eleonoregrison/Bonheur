{
 "cells": [
  {
   "cell_type": "code",
   "execution_count": null,
   "metadata": {},
   "outputs": [],
   "source": [
    "import pandas as pd\n",
    "import matplotlib.pyplot as plt\n",
    "df = pd.read_excel('DataForTable2.1WHR2023 (1).xls')\n",
    "\n",
    "# Normalisation des colonnes pour n'avoir que des indices entre 0 et 1\n",
    "df['Life Ladder']=df['Life Ladder']/10\n",
    "df['Log GDP per capita']=df['Log GDP per capita']/df['Log GDP per capita'].max()\n",
    "df['Healthy life expectancy at birth']=df['Healthy life expectancy at birth']/100\n",
    "df['Generosity']=df['Generosity'] + 0.5 - df['Generosity'].median()\n",
    "df['Generosity']=df['Generosity']/df['Generosity'].max()\n",
    "df.drop(columns=['year'])\n",
    "\n",
    "# On moyenne sur les différentes années \n",
    "df.set_index('Country name')\n",
    "df1 = df.groupby(by=df['Country name']).mean()\n",
    "\n",
    "# On calcule notre indice de bonheur avec la formule suivante\n",
    "df1['Indice'] = (0.2*df1['Life Ladder']+0.15*df1['Log GDP per capita']+ 0.1* df1['Social support'] + 0.1*df1['Healthy life expectancy at birth'] + 0.15*df1['Freedom to make life choices'] + 0.05*df1['Generosity'] + 0.05*df1['Perceptions of corruption'] + 0.1*df1['Positive affect'] + 0.1*df1['Negative affect'])/9\n",
    "\n",
    "# On trie les pays selon cet indice (on remarque qu'on a un problème pour certains pays qui n'ont pas rempli certains critères)\n",
    "df1.sort_values(by = ['Indice'], ascending = False)\n",
    "\n",
    "#On représente graphiquement le classement des pays les plus heureux (en arc-en-ciel parce que c'est beau)\n",
    "df3 = df2.head(9)\n",
    "x = df3.index\n",
    "y = df3['Indice']\n",
    "plt.title('Pays les plus heureux')\n",
    "couleurs = ['red', 'orange', 'salmon', 'pink', 'yellow', 'green', 'skyblue', 'blue', 'purple']\n",
    "plt.bar(x,y, width = 0.06, color = couleurs)\n",
    "plt.ylim(0.075,0.0875)\n",
    "plt.xticks(rotation=90)\n",
    "plt.show()"
   ]
  }
 ],
 "metadata": {
  "language_info": {
   "name": "python"
  },
  "orig_nbformat": 4
 },
 "nbformat": 4,
 "nbformat_minor": 2
}
