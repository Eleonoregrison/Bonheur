{
 "cells": [
  {
   "cell_type": "code",
   "execution_count": null,
   "metadata": {},
   "outputs": [],
   "source": [
    "import pandas as pd\n",
    "df = pd.read_excel('DataForTable2.1WHR2023 (1).xls')\n",
    "\n",
    "# Normalisation des colonnes pour n'avoir que des indices entre 0 et 1\n",
    "df['Life Ladder']=df['Life Ladder']/10\n",
    "df['Log GDP per capita']=df['Log GDP per capita']/df['Log GDP per capita'].max()\n",
    "df['Healthy life expectancy at birth']=df['Healthy life expectancy at birth']/100\n",
    "df['Generosity']=df['Generosity'] + 0.5 - df['Generosity'].median()\n",
    "df['Generosity']=df['Generosity']/df['Generosity'].max()\n",
    "df.drop(columns=['year'])\n",
    "\n",
    "# On moyenne sur les différentes années \n",
    "df.set_index('Country name')\n",
    "df1 = df.groupby(by=df['Country name']).mean()\n",
    "\n",
    "# On calcule notre indice de bonheur\n",
    "df1['Indice'] = (0.2*df1['Life Ladder']+0.15*df1['Log GDP per capita']+ 0.1* df1['Social support'] + 0.1*df1['Healthy life expectancy at birth'] + 0.15*df1['Freedom to make life choices'] + 0.05*df1['Generosity'] + 0.05*df1['Perceptions of corruption'] + 0.1*df1['Positive affect'] + 0.1*df1['Negative affect'])/9\n",
    "df1.sort_values(by = ['Indice'], ascending = False)\n"
   ]
  }
 ],
 "metadata": {
  "language_info": {
   "name": "python"
  },
  "orig_nbformat": 4
 },
 "nbformat": 4,
 "nbformat_minor": 2
}
